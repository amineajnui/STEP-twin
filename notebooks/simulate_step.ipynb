{
  "cells": [
    {
      "cell_type": "code",
      "source": [
        "from peepypoo import Reactor, Influent, Clarifier\n",
        "import pandas as pd\n",
        "import matplotlib.pyplot as plt\n",
        "\n",
        "# 1. Débits et charges\n",
        "infl = Influent(Q=500/24/3600, loads={'SS':300,'NH4':35,'PO4':6})\n",
        "r = Reactor(V=1500)\n",
        "c = Clarifier(V=800)\n",
        "infl.connect(r)\n",
        "r.connect(c)\n",
        "\n",
        "# 2. Simulation 48h\n",
        "df = r.simulate(duration=48*3600, dt=3600)\n",
        "\n",
        "# 3. Affichage\n",
        "df[['NH4_out','DO']].plot()\n",
        "plt.show()"
      ],
      "metadata": {},
      "outputs": [],
      "execution_count": null
    }
  ],
  "metadata": {"kernelspec": {"name": "python3"}},
  "nbformat": 4,
  "nbformat_minor": 5
}
